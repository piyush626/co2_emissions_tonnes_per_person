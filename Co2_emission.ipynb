{
 "cells": [
  {
   "cell_type": "markdown",
   "metadata": {},
   "source": [
    "Importing libraries for data analysis"
   ]
  },
  {
   "cell_type": "code",
   "execution_count": 1,
   "metadata": {},
   "outputs": [],
   "source": [
    "import pandas as pd\n",
    "import numpy as np\n",
    "import seaborn as sns\n",
    "import matplotlib.pyplot as plt\n",
    "%matplotlib inline"
   ]
  },
  {
   "cell_type": "markdown",
   "metadata": {},
   "source": [
    "Features of the final dataset which are present in different csv files individually  "
   ]
  },
  {
   "cell_type": "code",
   "execution_count": 2,
   "metadata": {},
   "outputs": [],
   "source": [
    "# \"hydro_power_generation_per_person\",\"cars_trucks_and_buses_per_1000_persons\" dont have 2014 data so discarding them\n",
    "features = [\"co2_emissions_tonnes_per_person\",\"yearly_co2_emissions_1000_tonnes\",\"forest_coverage_percent\",\"oil_production_per_person\",\n",
    "            \"oil_consumption_per_cap\",\"natural_gas_production_per_person\",\"industry_percent_of_gdp\",\n",
    "            \"income_per_person_gdppercapita_ppp_inflation_adjusted\",\n",
    "            \"electricity_use_per_person\",\"electricity_generation_per_person\",\"coal_consumption_per_cap\",\n",
    "            ]"
   ]
  },
  {
   "cell_type": "markdown",
   "metadata": {},
   "source": [
    "Reading all the feature/csv files and converting them into dataframe having same name as csv files and each containing the data for the year 2014"
   ]
  },
  {
   "cell_type": "code",
   "execution_count": 3,
   "metadata": {},
   "outputs": [],
   "source": [
    "for feature in features:\n",
    "    globals()[feature]  = pd.read_csv(\"all_csv/{}.csv\".format(feature))[['geo','2014']]"
   ]
  },
  {
   "cell_type": "code",
   "execution_count": 4,
   "metadata": {},
   "outputs": [],
   "source": [
    "data_frames = [co2_emissions_tonnes_per_person,yearly_co2_emissions_1000_tonnes,forest_coverage_percent,oil_production_per_person,oil_consumption_per_cap,\n",
    "               natural_gas_production_per_person,industry_percent_of_gdp,income_per_person_gdppercapita_ppp_inflation_adjusted,\n",
    "              electricity_use_per_person,electricity_generation_per_person,coal_consumption_per_cap]"
   ]
  },
  {
   "cell_type": "markdown",
   "metadata": {},
   "source": [
    "Converting the column name \"2014\" by the name of feature itself of each feature dataset"
   ]
  },
  {
   "cell_type": "code",
   "execution_count": 5,
   "metadata": {},
   "outputs": [],
   "source": [
    "i = 0\n",
    "for data in data_frames:\n",
    "    data.rename(columns={\"2014\":\"{}\".format(features[i])},inplace=True)\n",
    "    i = i+1"
   ]
  },
  {
   "cell_type": "markdown",
   "metadata": {},
   "source": [
    "Checking for target variable"
   ]
  },
  {
   "cell_type": "code",
   "execution_count": 6,
   "metadata": {},
   "outputs": [
    {
     "data": {
      "text/plain": [
       "0"
      ]
     },
     "execution_count": 6,
     "metadata": {},
     "output_type": "execute_result"
    }
   ],
   "source": [
    "co2_emissions_tonnes_per_person['co2_emissions_tonnes_per_person'].isnull().sum()"
   ]
  },
  {
   "cell_type": "markdown",
   "metadata": {},
   "source": [
    "Merging all the feature dataset on the basis of \"geo\" to create the final dataset by performing left join "
   ]
  },
  {
   "cell_type": "code",
   "execution_count": 7,
   "metadata": {},
   "outputs": [],
   "source": [
    "import functools"
   ]
  },
  {
   "cell_type": "code",
   "execution_count": 8,
   "metadata": {},
   "outputs": [],
   "source": [
    "df_merged = functools.reduce(lambda  left,right: pd.merge(left,right,on=[\"geo\"],\n",
    "                                            how='left'),data_frames)"
   ]
  },
  {
   "cell_type": "code",
   "execution_count": 9,
   "metadata": {},
   "outputs": [
    {
     "data": {
      "text/html": [
       "<div>\n",
       "<style scoped>\n",
       "    .dataframe tbody tr th:only-of-type {\n",
       "        vertical-align: middle;\n",
       "    }\n",
       "\n",
       "    .dataframe tbody tr th {\n",
       "        vertical-align: top;\n",
       "    }\n",
       "\n",
       "    .dataframe thead th {\n",
       "        text-align: right;\n",
       "    }\n",
       "</style>\n",
       "<table border=\"1\" class=\"dataframe\">\n",
       "  <thead>\n",
       "    <tr style=\"text-align: right;\">\n",
       "      <th></th>\n",
       "      <th>geo</th>\n",
       "      <th>co2_emissions_tonnes_per_person</th>\n",
       "      <th>yearly_co2_emissions_1000_tonnes</th>\n",
       "      <th>forest_coverage_percent</th>\n",
       "      <th>oil_production_per_person</th>\n",
       "      <th>oil_consumption_per_cap</th>\n",
       "      <th>natural_gas_production_per_person</th>\n",
       "      <th>industry_percent_of_gdp</th>\n",
       "      <th>income_per_person_gdppercapita_ppp_inflation_adjusted</th>\n",
       "      <th>electricity_use_per_person</th>\n",
       "      <th>electricity_generation_per_person</th>\n",
       "      <th>coal_consumption_per_cap</th>\n",
       "    </tr>\n",
       "  </thead>\n",
       "  <tbody>\n",
       "    <tr>\n",
       "      <th>0</th>\n",
       "      <td>Afghanistan</td>\n",
       "      <td>0.299</td>\n",
       "      <td>9810.0</td>\n",
       "      <td>2.07</td>\n",
       "      <td>NaN</td>\n",
       "      <td>NaN</td>\n",
       "      <td>NaN</td>\n",
       "      <td>21.10</td>\n",
       "      <td>1780.0</td>\n",
       "      <td>NaN</td>\n",
       "      <td>NaN</td>\n",
       "      <td>NaN</td>\n",
       "    </tr>\n",
       "    <tr>\n",
       "      <th>1</th>\n",
       "      <td>Albania</td>\n",
       "      <td>1.960</td>\n",
       "      <td>5720.0</td>\n",
       "      <td>28.20</td>\n",
       "      <td>NaN</td>\n",
       "      <td>NaN</td>\n",
       "      <td>NaN</td>\n",
       "      <td>21.50</td>\n",
       "      <td>10700.0</td>\n",
       "      <td>2310.0</td>\n",
       "      <td>NaN</td>\n",
       "      <td>NaN</td>\n",
       "    </tr>\n",
       "    <tr>\n",
       "      <th>2</th>\n",
       "      <td>Algeria</td>\n",
       "      <td>3.720</td>\n",
       "      <td>145000.0</td>\n",
       "      <td>0.82</td>\n",
       "      <td>1.76</td>\n",
       "      <td>0.452</td>\n",
       "      <td>1.92</td>\n",
       "      <td>42.30</td>\n",
       "      <td>13500.0</td>\n",
       "      <td>1360.0</td>\n",
       "      <td>1640.0</td>\n",
       "      <td>0.00458</td>\n",
       "    </tr>\n",
       "    <tr>\n",
       "      <th>3</th>\n",
       "      <td>Andorra</td>\n",
       "      <td>5.830</td>\n",
       "      <td>462.0</td>\n",
       "      <td>34.00</td>\n",
       "      <td>NaN</td>\n",
       "      <td>NaN</td>\n",
       "      <td>NaN</td>\n",
       "      <td>9.91</td>\n",
       "      <td>44900.0</td>\n",
       "      <td>NaN</td>\n",
       "      <td>NaN</td>\n",
       "      <td>NaN</td>\n",
       "    </tr>\n",
       "    <tr>\n",
       "      <th>4</th>\n",
       "      <td>Angola</td>\n",
       "      <td>1.290</td>\n",
       "      <td>34800.0</td>\n",
       "      <td>46.50</td>\n",
       "      <td>3.08</td>\n",
       "      <td>NaN</td>\n",
       "      <td>NaN</td>\n",
       "      <td>NaN</td>\n",
       "      <td>6260.0</td>\n",
       "      <td>312.0</td>\n",
       "      <td>NaN</td>\n",
       "      <td>NaN</td>\n",
       "    </tr>\n",
       "  </tbody>\n",
       "</table>\n",
       "</div>"
      ],
      "text/plain": [
       "           geo  co2_emissions_tonnes_per_person  \\\n",
       "0  Afghanistan                            0.299   \n",
       "1      Albania                            1.960   \n",
       "2      Algeria                            3.720   \n",
       "3      Andorra                            5.830   \n",
       "4       Angola                            1.290   \n",
       "\n",
       "   yearly_co2_emissions_1000_tonnes  forest_coverage_percent  \\\n",
       "0                            9810.0                     2.07   \n",
       "1                            5720.0                    28.20   \n",
       "2                          145000.0                     0.82   \n",
       "3                             462.0                    34.00   \n",
       "4                           34800.0                    46.50   \n",
       "\n",
       "   oil_production_per_person  oil_consumption_per_cap  \\\n",
       "0                        NaN                      NaN   \n",
       "1                        NaN                      NaN   \n",
       "2                       1.76                    0.452   \n",
       "3                        NaN                      NaN   \n",
       "4                       3.08                      NaN   \n",
       "\n",
       "   natural_gas_production_per_person  industry_percent_of_gdp  \\\n",
       "0                                NaN                    21.10   \n",
       "1                                NaN                    21.50   \n",
       "2                               1.92                    42.30   \n",
       "3                                NaN                     9.91   \n",
       "4                                NaN                      NaN   \n",
       "\n",
       "   income_per_person_gdppercapita_ppp_inflation_adjusted  \\\n",
       "0                                             1780.0       \n",
       "1                                            10700.0       \n",
       "2                                            13500.0       \n",
       "3                                            44900.0       \n",
       "4                                             6260.0       \n",
       "\n",
       "   electricity_use_per_person  electricity_generation_per_person  \\\n",
       "0                         NaN                                NaN   \n",
       "1                      2310.0                                NaN   \n",
       "2                      1360.0                             1640.0   \n",
       "3                         NaN                                NaN   \n",
       "4                       312.0                                NaN   \n",
       "\n",
       "   coal_consumption_per_cap  \n",
       "0                       NaN  \n",
       "1                       NaN  \n",
       "2                   0.00458  \n",
       "3                       NaN  \n",
       "4                       NaN  "
      ]
     },
     "execution_count": 9,
     "metadata": {},
     "output_type": "execute_result"
    }
   ],
   "source": [
    "df_merged.head()"
   ]
  },
  {
   "cell_type": "code",
   "execution_count": 10,
   "metadata": {},
   "outputs": [],
   "source": [
    "df_merged.set_index(\"geo\",inplace=True)"
   ]
  },
  {
   "cell_type": "code",
   "execution_count": 11,
   "metadata": {},
   "outputs": [
    {
     "data": {
      "text/html": [
       "<div>\n",
       "<style scoped>\n",
       "    .dataframe tbody tr th:only-of-type {\n",
       "        vertical-align: middle;\n",
       "    }\n",
       "\n",
       "    .dataframe tbody tr th {\n",
       "        vertical-align: top;\n",
       "    }\n",
       "\n",
       "    .dataframe thead th {\n",
       "        text-align: right;\n",
       "    }\n",
       "</style>\n",
       "<table border=\"1\" class=\"dataframe\">\n",
       "  <thead>\n",
       "    <tr style=\"text-align: right;\">\n",
       "      <th></th>\n",
       "      <th>co2_emissions_tonnes_per_person</th>\n",
       "      <th>yearly_co2_emissions_1000_tonnes</th>\n",
       "      <th>forest_coverage_percent</th>\n",
       "      <th>oil_production_per_person</th>\n",
       "      <th>oil_consumption_per_cap</th>\n",
       "      <th>natural_gas_production_per_person</th>\n",
       "      <th>industry_percent_of_gdp</th>\n",
       "      <th>income_per_person_gdppercapita_ppp_inflation_adjusted</th>\n",
       "      <th>electricity_use_per_person</th>\n",
       "      <th>electricity_generation_per_person</th>\n",
       "      <th>coal_consumption_per_cap</th>\n",
       "    </tr>\n",
       "    <tr>\n",
       "      <th>geo</th>\n",
       "      <th></th>\n",
       "      <th></th>\n",
       "      <th></th>\n",
       "      <th></th>\n",
       "      <th></th>\n",
       "      <th></th>\n",
       "      <th></th>\n",
       "      <th></th>\n",
       "      <th></th>\n",
       "      <th></th>\n",
       "      <th></th>\n",
       "    </tr>\n",
       "  </thead>\n",
       "  <tbody>\n",
       "    <tr>\n",
       "      <th>Afghanistan</th>\n",
       "      <td>0.299</td>\n",
       "      <td>9810.0</td>\n",
       "      <td>2.07</td>\n",
       "      <td>NaN</td>\n",
       "      <td>NaN</td>\n",
       "      <td>NaN</td>\n",
       "      <td>21.10</td>\n",
       "      <td>1780.0</td>\n",
       "      <td>NaN</td>\n",
       "      <td>NaN</td>\n",
       "      <td>NaN</td>\n",
       "    </tr>\n",
       "    <tr>\n",
       "      <th>Albania</th>\n",
       "      <td>1.960</td>\n",
       "      <td>5720.0</td>\n",
       "      <td>28.20</td>\n",
       "      <td>NaN</td>\n",
       "      <td>NaN</td>\n",
       "      <td>NaN</td>\n",
       "      <td>21.50</td>\n",
       "      <td>10700.0</td>\n",
       "      <td>2310.0</td>\n",
       "      <td>NaN</td>\n",
       "      <td>NaN</td>\n",
       "    </tr>\n",
       "    <tr>\n",
       "      <th>Algeria</th>\n",
       "      <td>3.720</td>\n",
       "      <td>145000.0</td>\n",
       "      <td>0.82</td>\n",
       "      <td>1.760</td>\n",
       "      <td>0.452</td>\n",
       "      <td>1.9200</td>\n",
       "      <td>42.30</td>\n",
       "      <td>13500.0</td>\n",
       "      <td>1360.0</td>\n",
       "      <td>1640.0</td>\n",
       "      <td>0.00458</td>\n",
       "    </tr>\n",
       "    <tr>\n",
       "      <th>Andorra</th>\n",
       "      <td>5.830</td>\n",
       "      <td>462.0</td>\n",
       "      <td>34.00</td>\n",
       "      <td>NaN</td>\n",
       "      <td>NaN</td>\n",
       "      <td>NaN</td>\n",
       "      <td>9.91</td>\n",
       "      <td>44900.0</td>\n",
       "      <td>NaN</td>\n",
       "      <td>NaN</td>\n",
       "      <td>NaN</td>\n",
       "    </tr>\n",
       "    <tr>\n",
       "      <th>Angola</th>\n",
       "      <td>1.290</td>\n",
       "      <td>34800.0</td>\n",
       "      <td>46.50</td>\n",
       "      <td>3.080</td>\n",
       "      <td>NaN</td>\n",
       "      <td>NaN</td>\n",
       "      <td>NaN</td>\n",
       "      <td>6260.0</td>\n",
       "      <td>312.0</td>\n",
       "      <td>NaN</td>\n",
       "      <td>NaN</td>\n",
       "    </tr>\n",
       "    <tr>\n",
       "      <th>...</th>\n",
       "      <td>...</td>\n",
       "      <td>...</td>\n",
       "      <td>...</td>\n",
       "      <td>...</td>\n",
       "      <td>...</td>\n",
       "      <td>...</td>\n",
       "      <td>...</td>\n",
       "      <td>...</td>\n",
       "      <td>...</td>\n",
       "      <td>...</td>\n",
       "      <td>...</td>\n",
       "    </tr>\n",
       "    <tr>\n",
       "      <th>Venezuela</th>\n",
       "      <td>6.030</td>\n",
       "      <td>185000.0</td>\n",
       "      <td>53.10</td>\n",
       "      <td>4.510</td>\n",
       "      <td>1.090</td>\n",
       "      <td>0.8390</td>\n",
       "      <td>37.20</td>\n",
       "      <td>16700.0</td>\n",
       "      <td>2660.0</td>\n",
       "      <td>3590.0</td>\n",
       "      <td>0.00641</td>\n",
       "    </tr>\n",
       "    <tr>\n",
       "      <th>Vietnam</th>\n",
       "      <td>1.800</td>\n",
       "      <td>167000.0</td>\n",
       "      <td>47.20</td>\n",
       "      <td>0.195</td>\n",
       "      <td>0.195</td>\n",
       "      <td>0.0993</td>\n",
       "      <td>33.20</td>\n",
       "      <td>5370.0</td>\n",
       "      <td>1410.0</td>\n",
       "      <td>1540.0</td>\n",
       "      <td>0.20500</td>\n",
       "    </tr>\n",
       "    <tr>\n",
       "      <th>Yemen</th>\n",
       "      <td>0.865</td>\n",
       "      <td>22700.0</td>\n",
       "      <td>1.04</td>\n",
       "      <td>0.256</td>\n",
       "      <td>NaN</td>\n",
       "      <td>0.3200</td>\n",
       "      <td>44.00</td>\n",
       "      <td>3770.0</td>\n",
       "      <td>216.0</td>\n",
       "      <td>NaN</td>\n",
       "      <td>NaN</td>\n",
       "    </tr>\n",
       "    <tr>\n",
       "      <th>Zambia</th>\n",
       "      <td>0.288</td>\n",
       "      <td>4500.0</td>\n",
       "      <td>65.70</td>\n",
       "      <td>NaN</td>\n",
       "      <td>NaN</td>\n",
       "      <td>NaN</td>\n",
       "      <td>32.90</td>\n",
       "      <td>3630.0</td>\n",
       "      <td>707.0</td>\n",
       "      <td>NaN</td>\n",
       "      <td>NaN</td>\n",
       "    </tr>\n",
       "    <tr>\n",
       "      <th>Zimbabwe</th>\n",
       "      <td>0.780</td>\n",
       "      <td>12000.0</td>\n",
       "      <td>37.20</td>\n",
       "      <td>NaN</td>\n",
       "      <td>NaN</td>\n",
       "      <td>NaN</td>\n",
       "      <td>22.50</td>\n",
       "      <td>1910.0</td>\n",
       "      <td>537.0</td>\n",
       "      <td>NaN</td>\n",
       "      <td>NaN</td>\n",
       "    </tr>\n",
       "  </tbody>\n",
       "</table>\n",
       "<p>192 rows × 11 columns</p>\n",
       "</div>"
      ],
      "text/plain": [
       "             co2_emissions_tonnes_per_person  \\\n",
       "geo                                            \n",
       "Afghanistan                            0.299   \n",
       "Albania                                1.960   \n",
       "Algeria                                3.720   \n",
       "Andorra                                5.830   \n",
       "Angola                                 1.290   \n",
       "...                                      ...   \n",
       "Venezuela                              6.030   \n",
       "Vietnam                                1.800   \n",
       "Yemen                                  0.865   \n",
       "Zambia                                 0.288   \n",
       "Zimbabwe                               0.780   \n",
       "\n",
       "             yearly_co2_emissions_1000_tonnes  forest_coverage_percent  \\\n",
       "geo                                                                      \n",
       "Afghanistan                            9810.0                     2.07   \n",
       "Albania                                5720.0                    28.20   \n",
       "Algeria                              145000.0                     0.82   \n",
       "Andorra                                 462.0                    34.00   \n",
       "Angola                                34800.0                    46.50   \n",
       "...                                       ...                      ...   \n",
       "Venezuela                            185000.0                    53.10   \n",
       "Vietnam                              167000.0                    47.20   \n",
       "Yemen                                 22700.0                     1.04   \n",
       "Zambia                                 4500.0                    65.70   \n",
       "Zimbabwe                              12000.0                    37.20   \n",
       "\n",
       "             oil_production_per_person  oil_consumption_per_cap  \\\n",
       "geo                                                               \n",
       "Afghanistan                        NaN                      NaN   \n",
       "Albania                            NaN                      NaN   \n",
       "Algeria                          1.760                    0.452   \n",
       "Andorra                            NaN                      NaN   \n",
       "Angola                           3.080                      NaN   \n",
       "...                                ...                      ...   \n",
       "Venezuela                        4.510                    1.090   \n",
       "Vietnam                          0.195                    0.195   \n",
       "Yemen                            0.256                      NaN   \n",
       "Zambia                             NaN                      NaN   \n",
       "Zimbabwe                           NaN                      NaN   \n",
       "\n",
       "             natural_gas_production_per_person  industry_percent_of_gdp  \\\n",
       "geo                                                                       \n",
       "Afghanistan                                NaN                    21.10   \n",
       "Albania                                    NaN                    21.50   \n",
       "Algeria                                 1.9200                    42.30   \n",
       "Andorra                                    NaN                     9.91   \n",
       "Angola                                     NaN                      NaN   \n",
       "...                                        ...                      ...   \n",
       "Venezuela                               0.8390                    37.20   \n",
       "Vietnam                                 0.0993                    33.20   \n",
       "Yemen                                   0.3200                    44.00   \n",
       "Zambia                                     NaN                    32.90   \n",
       "Zimbabwe                                   NaN                    22.50   \n",
       "\n",
       "             income_per_person_gdppercapita_ppp_inflation_adjusted  \\\n",
       "geo                                                                  \n",
       "Afghanistan                                             1780.0       \n",
       "Albania                                                10700.0       \n",
       "Algeria                                                13500.0       \n",
       "Andorra                                                44900.0       \n",
       "Angola                                                  6260.0       \n",
       "...                                                        ...       \n",
       "Venezuela                                              16700.0       \n",
       "Vietnam                                                 5370.0       \n",
       "Yemen                                                   3770.0       \n",
       "Zambia                                                  3630.0       \n",
       "Zimbabwe                                                1910.0       \n",
       "\n",
       "             electricity_use_per_person  electricity_generation_per_person  \\\n",
       "geo                                                                          \n",
       "Afghanistan                         NaN                                NaN   \n",
       "Albania                          2310.0                                NaN   \n",
       "Algeria                          1360.0                             1640.0   \n",
       "Andorra                             NaN                                NaN   \n",
       "Angola                            312.0                                NaN   \n",
       "...                                 ...                                ...   \n",
       "Venezuela                        2660.0                             3590.0   \n",
       "Vietnam                          1410.0                             1540.0   \n",
       "Yemen                             216.0                                NaN   \n",
       "Zambia                            707.0                                NaN   \n",
       "Zimbabwe                          537.0                                NaN   \n",
       "\n",
       "             coal_consumption_per_cap  \n",
       "geo                                    \n",
       "Afghanistan                       NaN  \n",
       "Albania                           NaN  \n",
       "Algeria                       0.00458  \n",
       "Andorra                           NaN  \n",
       "Angola                            NaN  \n",
       "...                               ...  \n",
       "Venezuela                     0.00641  \n",
       "Vietnam                       0.20500  \n",
       "Yemen                             NaN  \n",
       "Zambia                            NaN  \n",
       "Zimbabwe                          NaN  \n",
       "\n",
       "[192 rows x 11 columns]"
      ]
     },
     "execution_count": 11,
     "metadata": {},
     "output_type": "execute_result"
    }
   ],
   "source": [
    "df_merged"
   ]
  },
  {
   "cell_type": "code",
   "execution_count": 12,
   "metadata": {},
   "outputs": [
    {
     "data": {
      "text/plain": [
       "(192, 11)"
      ]
     },
     "execution_count": 12,
     "metadata": {},
     "output_type": "execute_result"
    }
   ],
   "source": [
    "df_merged.shape"
   ]
  },
  {
   "cell_type": "code",
   "execution_count": 13,
   "metadata": {},
   "outputs": [
    {
     "name": "stdout",
     "output_type": "stream",
     "text": [
      "<class 'pandas.core.frame.DataFrame'>\n",
      "Index: 192 entries, Afghanistan to Zimbabwe\n",
      "Data columns (total 11 columns):\n",
      " #   Column                                                 Non-Null Count  Dtype  \n",
      "---  ------                                                 --------------  -----  \n",
      " 0   co2_emissions_tonnes_per_person                        192 non-null    float64\n",
      " 1   yearly_co2_emissions_1000_tonnes                       192 non-null    float64\n",
      " 2   forest_coverage_percent                                190 non-null    float64\n",
      " 3   oil_production_per_person                              49 non-null     float64\n",
      " 4   oil_consumption_per_cap                                65 non-null     float64\n",
      " 5   natural_gas_production_per_person                      49 non-null     float64\n",
      " 6   industry_percent_of_gdp                                183 non-null    float64\n",
      " 7   income_per_person_gdppercapita_ppp_inflation_adjusted  191 non-null    float64\n",
      " 8   electricity_use_per_person                             137 non-null    float64\n",
      " 9   electricity_generation_per_person                      65 non-null     float64\n",
      " 10  coal_consumption_per_cap                               65 non-null     float64\n",
      "dtypes: float64(11)\n",
      "memory usage: 18.0+ KB\n"
     ]
    }
   ],
   "source": [
    "df_merged.info()"
   ]
  },
  {
   "cell_type": "code",
   "execution_count": 14,
   "metadata": {},
   "outputs": [],
   "source": [
    "def outlier_treat(x):\n",
    "    q1 = x.quantile(.25)\n",
    "    q3 = x.quantile(.75)\n",
    "    iqr = q3-q1\n",
    "    lower = q1-q1*1.5\n",
    "    upper = q3+q3*1.5\n",
    "    return (lower,upper)"
   ]
  },
  {
   "cell_type": "code",
   "execution_count": 15,
   "metadata": {},
   "outputs": [
    {
     "data": {
      "text/plain": [
       "<matplotlib.axes._subplots.AxesSubplot at 0x14b6f82be08>"
      ]
     },
     "execution_count": 15,
     "metadata": {},
     "output_type": "execute_result"
    },
    {
     "data": {
      "image/png": "[encoded data removed]",
      "text/plain": [
       "<Figure size 432x288 with 1 Axes>"
      ]
     },
     "metadata": {
      "needs_background": "light"
     },
     "output_type": "display_data"
    }
   ],
   "source": [
    "sns.boxplot(x=df_merged['forest_coverage_percent'])"
   ]
  },
  {
   "cell_type": "code",
   "execution_count": 16,
   "metadata": {},
   "outputs": [],
   "source": [
    "df_merged['forest_coverage_percent'] = df_merged['forest_coverage_percent'].fillna(df_merged['forest_coverage_percent'].median())"
   ]
  },
  {
   "cell_type": "code",
   "execution_count": 17,
   "metadata": {},
   "outputs": [
    {
     "name": "stdout",
     "output_type": "stream",
     "text": [
      "<class 'pandas.core.frame.DataFrame'>\n",
      "Index: 192 entries, Afghanistan to Zimbabwe\n",
      "Data columns (total 11 columns):\n",
      " #   Column                                                 Non-Null Count  Dtype  \n",
      "---  ------                                                 --------------  -----  \n",
      " 0   co2_emissions_tonnes_per_person                        192 non-null    float64\n",
      " 1   yearly_co2_emissions_1000_tonnes                       192 non-null    float64\n",
      " 2   forest_coverage_percent                                192 non-null    float64\n",
      " 3   oil_production_per_person                              49 non-null     float64\n",
      " 4   oil_consumption_per_cap                                65 non-null     float64\n",
      " 5   natural_gas_production_per_person                      49 non-null     float64\n",
      " 6   industry_percent_of_gdp                                183 non-null    float64\n",
      " 7   income_per_person_gdppercapita_ppp_inflation_adjusted  191 non-null    float64\n",
      " 8   electricity_use_per_person                             137 non-null    float64\n",
      " 9   electricity_generation_per_person                      65 non-null     float64\n",
      " 10  coal_consumption_per_cap                               65 non-null     float64\n",
      "dtypes: float64(11)\n",
      "memory usage: 18.0+ KB\n"
     ]
    }
   ],
   "source": [
    "df_merged.info()"
   ]
  },
  {
   "cell_type": "code",
   "execution_count": 18,
   "metadata": {},
   "outputs": [
    {
     "data": {
      "text/plain": [
       "<matplotlib.axes._subplots.AxesSubplot at 0x14b71200808>"
      ]
     },
     "execution_count": 18,
     "metadata": {},
     "output_type": "execute_result"
    },
    {
     "data": {
      "image/png": "[encoded data removed]",
      "text/plain": [
       "<Figure size 432x288 with 1 Axes>"
      ]
     },
     "metadata": {
      "needs_background": "light"
     },
     "output_type": "display_data"
    }
   ],
   "source": [
    "sns.boxplot(x=df_merged['industry_percent_of_gdp'])"
   ]
  },
  {
   "cell_type": "code",
   "execution_count": 19,
   "metadata": {},
   "outputs": [],
   "source": [
    "df_merged['industry_percent_of_gdp'] = df_merged['industry_percent_of_gdp'].fillna(df_merged['industry_percent_of_gdp'].median())"
   ]
  },
  {
   "cell_type": "code",
   "execution_count": 20,
   "metadata": {},
   "outputs": [
    {
     "name": "stdout",
     "output_type": "stream",
     "text": [
      "<class 'pandas.core.frame.DataFrame'>\n",
      "Index: 192 entries, Afghanistan to Zimbabwe\n",
      "Data columns (total 11 columns):\n",
      " #   Column                                                 Non-Null Count  Dtype  \n",
      "---  ------                                                 --------------  -----  \n",
      " 0   co2_emissions_tonnes_per_person                        192 non-null    float64\n",
      " 1   yearly_co2_emissions_1000_tonnes                       192 non-null    float64\n",
      " 2   forest_coverage_percent                                192 non-null    float64\n",
      " 3   oil_production_per_person                              49 non-null     float64\n",
      " 4   oil_consumption_per_cap                                65 non-null     float64\n",
      " 5   natural_gas_production_per_person                      49 non-null     float64\n",
      " 6   industry_percent_of_gdp                                192 non-null    float64\n",
      " 7   income_per_person_gdppercapita_ppp_inflation_adjusted  191 non-null    float64\n",
      " 8   electricity_use_per_person                             137 non-null    float64\n",
      " 9   electricity_generation_per_person                      65 non-null     float64\n",
      " 10  coal_consumption_per_cap                               65 non-null     float64\n",
      "dtypes: float64(11)\n",
      "memory usage: 18.0+ KB\n"
     ]
    }
   ],
   "source": [
    "df_merged.info()"
   ]
  },
  {
   "cell_type": "code",
   "execution_count": 21,
   "metadata": {},
   "outputs": [
    {
     "data": {
      "text/plain": [
       "<matplotlib.axes._subplots.AxesSubplot at 0x14b7127de08>"
      ]
     },
     "execution_count": 21,
     "metadata": {},
     "output_type": "execute_result"
    },
    {
     "data": {
      "image/png": "[encoded data removed]",
      "text/plain": [
       "<Figure size 432x288 with 1 Axes>"
      ]
     },
     "metadata": {
      "needs_background": "light"
     },
     "output_type": "display_data"
    }
   ],
   "source": [
    "sns.boxplot(x=df_merged['income_per_person_gdppercapita_ppp_inflation_adjusted'])"
   ]
  },
  {
   "cell_type": "code",
   "execution_count": 22,
   "metadata": {},
   "outputs": [],
   "source": [
    "df_merged['income_per_person_gdppercapita_ppp_inflation_adjusted'] = df_merged['income_per_person_gdppercapita_ppp_inflation_adjusted'].fillna(\n",
    "                                                    df_merged['income_per_person_gdppercapita_ppp_inflation_adjusted'].median())\n",
    "                                                                     "
   ]
  },
  {
   "cell_type": "code",
   "execution_count": 23,
   "metadata": {},
   "outputs": [
    {
     "name": "stdout",
     "output_type": "stream",
     "text": [
      "<class 'pandas.core.frame.DataFrame'>\n",
      "Index: 192 entries, Afghanistan to Zimbabwe\n",
      "Data columns (total 11 columns):\n",
      " #   Column                                                 Non-Null Count  Dtype  \n",
      "---  ------                                                 --------------  -----  \n",
      " 0   co2_emissions_tonnes_per_person                        192 non-null    float64\n",
      " 1   yearly_co2_emissions_1000_tonnes                       192 non-null    float64\n",
      " 2   forest_coverage_percent                                192 non-null    float64\n",
      " 3   oil_production_per_person                              49 non-null     float64\n",
      " 4   oil_consumption_per_cap                                65 non-null     float64\n",
      " 5   natural_gas_production_per_person                      49 non-null     float64\n",
      " 6   industry_percent_of_gdp                                192 non-null    float64\n",
      " 7   income_per_person_gdppercapita_ppp_inflation_adjusted  192 non-null    float64\n",
      " 8   electricity_use_per_person                             137 non-null    float64\n",
      " 9   electricity_generation_per_person                      65 non-null     float64\n",
      " 10  coal_consumption_per_cap                               65 non-null     float64\n",
      "dtypes: float64(11)\n",
      "memory usage: 18.0+ KB\n"
     ]
    }
   ],
   "source": [
    "df_merged.info()"
   ]
  },
  {
   "cell_type": "code",
   "execution_count": 24,
   "metadata": {},
   "outputs": [
    {
     "data": {
      "text/plain": [
       "<matplotlib.axes._subplots.AxesSubplot at 0x14b712d74c8>"
      ]
     },
     "execution_count": 24,
     "metadata": {},
     "output_type": "execute_result"
    },
    {
     "data": {
      "image/png": "[encoded data removed]",
      "text/plain": [
       "<Figure size 432x288 with 1 Axes>"
      ]
     },
     "metadata": {
      "needs_background": "light"
     },
     "output_type": "display_data"
    }
   ],
   "source": [
    "sns.boxplot(x=df_merged['electricity_use_per_person'])"
   ]
  },
  {
   "cell_type": "code",
   "execution_count": 25,
   "metadata": {},
   "outputs": [],
   "source": [
    "df_merged['electricity_use_per_person'] = df_merged['electricity_use_per_person'].fillna(\n",
    "                                           df_merged['electricity_use_per_person'].median())"
   ]
  },
  {
   "cell_type": "code",
   "execution_count": 26,
   "metadata": {},
   "outputs": [
    {
     "name": "stdout",
     "output_type": "stream",
     "text": [
      "<class 'pandas.core.frame.DataFrame'>\n",
      "Index: 192 entries, Afghanistan to Zimbabwe\n",
      "Data columns (total 11 columns):\n",
      " #   Column                                                 Non-Null Count  Dtype  \n",
      "---  ------                                                 --------------  -----  \n",
      " 0   co2_emissions_tonnes_per_person                        192 non-null    float64\n",
      " 1   yearly_co2_emissions_1000_tonnes                       192 non-null    float64\n",
      " 2   forest_coverage_percent                                192 non-null    float64\n",
      " 3   oil_production_per_person                              49 non-null     float64\n",
      " 4   oil_consumption_per_cap                                65 non-null     float64\n",
      " 5   natural_gas_production_per_person                      49 non-null     float64\n",
      " 6   industry_percent_of_gdp                                192 non-null    float64\n",
      " 7   income_per_person_gdppercapita_ppp_inflation_adjusted  192 non-null    float64\n",
      " 8   electricity_use_per_person                             192 non-null    float64\n",
      " 9   electricity_generation_per_person                      65 non-null     float64\n",
      " 10  coal_consumption_per_cap                               65 non-null     float64\n",
      "dtypes: float64(11)\n",
      "memory usage: 18.0+ KB\n"
     ]
    }
   ],
   "source": [
    "df_merged.info()"
   ]
  },
  {
   "cell_type": "code",
   "execution_count": 27,
   "metadata": {},
   "outputs": [
    {
     "data": {
      "text/plain": [
       "<matplotlib.axes._subplots.AxesSubplot at 0x14b6f82e1c8>"
      ]
     },
     "execution_count": 27,
     "metadata": {},
     "output_type": "execute_result"
    },
    {
     "data": {
      "image/png": "[encoded data removed]",
      "text/plain": [
       "<Figure size 720x360 with 2 Axes>"
      ]
     },
     "metadata": {
      "needs_background": "light"
     },
     "output_type": "display_data"
    }
   ],
   "source": [
    "plt.figure(figsize=(10,5))\n",
    "sns.heatmap(df_merged.corr(),annot=True)"
   ]
  },
  {
   "cell_type": "markdown",
   "metadata": {},
   "source": [
    "Correlation is too high among some variables ,also having too much missing values so discarding those variables"
   ]
  },
  {
   "cell_type": "code",
   "execution_count": 28,
   "metadata": {},
   "outputs": [],
   "source": [
    "df_merged_one = df_merged.drop(['oil_production_per_person','oil_consumption_per_cap','natural_gas_production_per_person',\n",
    "                               'electricity_generation_per_person','coal_consumption_per_cap'],axis=1)"
   ]
  },
  {
   "cell_type": "code",
   "execution_count": 29,
   "metadata": {},
   "outputs": [
    {
     "data": {
      "text/html": [
       "<div>\n",
       "<style scoped>\n",
       "    .dataframe tbody tr th:only-of-type {\n",
       "        vertical-align: middle;\n",
       "    }\n",
       "\n",
       "    .dataframe tbody tr th {\n",
       "        vertical-align: top;\n",
       "    }\n",
       "\n",
       "    .dataframe thead th {\n",
       "        text-align: right;\n",
       "    }\n",
       "</style>\n",
       "<table border=\"1\" class=\"dataframe\">\n",
       "  <thead>\n",
       "    <tr style=\"text-align: right;\">\n",
       "      <th></th>\n",
       "      <th>co2_emissions_tonnes_per_person</th>\n",
       "      <th>yearly_co2_emissions_1000_tonnes</th>\n",
       "      <th>forest_coverage_percent</th>\n",
       "      <th>industry_percent_of_gdp</th>\n",
       "      <th>income_per_person_gdppercapita_ppp_inflation_adjusted</th>\n",
       "      <th>electricity_use_per_person</th>\n",
       "    </tr>\n",
       "    <tr>\n",
       "      <th>geo</th>\n",
       "      <th></th>\n",
       "      <th></th>\n",
       "      <th></th>\n",
       "      <th></th>\n",
       "      <th></th>\n",
       "      <th></th>\n",
       "    </tr>\n",
       "  </thead>\n",
       "  <tbody>\n",
       "    <tr>\n",
       "      <th>Afghanistan</th>\n",
       "      <td>0.299</td>\n",
       "      <td>9810.0</td>\n",
       "      <td>2.07</td>\n",
       "      <td>21.10</td>\n",
       "      <td>1780.0</td>\n",
       "      <td>2580.0</td>\n",
       "    </tr>\n",
       "    <tr>\n",
       "      <th>Albania</th>\n",
       "      <td>1.960</td>\n",
       "      <td>5720.0</td>\n",
       "      <td>28.20</td>\n",
       "      <td>21.50</td>\n",
       "      <td>10700.0</td>\n",
       "      <td>2310.0</td>\n",
       "    </tr>\n",
       "    <tr>\n",
       "      <th>Algeria</th>\n",
       "      <td>3.720</td>\n",
       "      <td>145000.0</td>\n",
       "      <td>0.82</td>\n",
       "      <td>42.30</td>\n",
       "      <td>13500.0</td>\n",
       "      <td>1360.0</td>\n",
       "    </tr>\n",
       "    <tr>\n",
       "      <th>Andorra</th>\n",
       "      <td>5.830</td>\n",
       "      <td>462.0</td>\n",
       "      <td>34.00</td>\n",
       "      <td>9.91</td>\n",
       "      <td>44900.0</td>\n",
       "      <td>2580.0</td>\n",
       "    </tr>\n",
       "    <tr>\n",
       "      <th>Angola</th>\n",
       "      <td>1.290</td>\n",
       "      <td>34800.0</td>\n",
       "      <td>46.50</td>\n",
       "      <td>24.70</td>\n",
       "      <td>6260.0</td>\n",
       "      <td>312.0</td>\n",
       "    </tr>\n",
       "    <tr>\n",
       "      <th>...</th>\n",
       "      <td>...</td>\n",
       "      <td>...</td>\n",
       "      <td>...</td>\n",
       "      <td>...</td>\n",
       "      <td>...</td>\n",
       "      <td>...</td>\n",
       "    </tr>\n",
       "    <tr>\n",
       "      <th>Venezuela</th>\n",
       "      <td>6.030</td>\n",
       "      <td>185000.0</td>\n",
       "      <td>53.10</td>\n",
       "      <td>37.20</td>\n",
       "      <td>16700.0</td>\n",
       "      <td>2660.0</td>\n",
       "    </tr>\n",
       "    <tr>\n",
       "      <th>Vietnam</th>\n",
       "      <td>1.800</td>\n",
       "      <td>167000.0</td>\n",
       "      <td>47.20</td>\n",
       "      <td>33.20</td>\n",
       "      <td>5370.0</td>\n",
       "      <td>1410.0</td>\n",
       "    </tr>\n",
       "    <tr>\n",
       "      <th>Yemen</th>\n",
       "      <td>0.865</td>\n",
       "      <td>22700.0</td>\n",
       "      <td>1.04</td>\n",
       "      <td>44.00</td>\n",
       "      <td>3770.0</td>\n",
       "      <td>216.0</td>\n",
       "    </tr>\n",
       "    <tr>\n",
       "      <th>Zambia</th>\n",
       "      <td>0.288</td>\n",
       "      <td>4500.0</td>\n",
       "      <td>65.70</td>\n",
       "      <td>32.90</td>\n",
       "      <td>3630.0</td>\n",
       "      <td>707.0</td>\n",
       "    </tr>\n",
       "    <tr>\n",
       "      <th>Zimbabwe</th>\n",
       "      <td>0.780</td>\n",
       "      <td>12000.0</td>\n",
       "      <td>37.20</td>\n",
       "      <td>22.50</td>\n",
       "      <td>1910.0</td>\n",
       "      <td>537.0</td>\n",
       "    </tr>\n",
       "  </tbody>\n",
       "</table>\n",
       "<p>192 rows × 6 columns</p>\n",
       "</div>"
      ],
      "text/plain": [
       "             co2_emissions_tonnes_per_person  \\\n",
       "geo                                            \n",
       "Afghanistan                            0.299   \n",
       "Albania                                1.960   \n",
       "Algeria                                3.720   \n",
       "Andorra                                5.830   \n",
       "Angola                                 1.290   \n",
       "...                                      ...   \n",
       "Venezuela                              6.030   \n",
       "Vietnam                                1.800   \n",
       "Yemen                                  0.865   \n",
       "Zambia                                 0.288   \n",
       "Zimbabwe                               0.780   \n",
       "\n",
       "             yearly_co2_emissions_1000_tonnes  forest_coverage_percent  \\\n",
       "geo                                                                      \n",
       "Afghanistan                            9810.0                     2.07   \n",
       "Albania                                5720.0                    28.20   \n",
       "Algeria                              145000.0                     0.82   \n",
       "Andorra                                 462.0                    34.00   \n",
       "Angola                                34800.0                    46.50   \n",
       "...                                       ...                      ...   \n",
       "Venezuela                            185000.0                    53.10   \n",
       "Vietnam                              167000.0                    47.20   \n",
       "Yemen                                 22700.0                     1.04   \n",
       "Zambia                                 4500.0                    65.70   \n",
       "Zimbabwe                              12000.0                    37.20   \n",
       "\n",
       "             industry_percent_of_gdp  \\\n",
       "geo                                    \n",
       "Afghanistan                    21.10   \n",
       "Albania                        21.50   \n",
       "Algeria                        42.30   \n",
       "Andorra                         9.91   \n",
       "Angola                         24.70   \n",
       "...                              ...   \n",
       "Venezuela                      37.20   \n",
       "Vietnam                        33.20   \n",
       "Yemen                          44.00   \n",
       "Zambia                         32.90   \n",
       "Zimbabwe                       22.50   \n",
       "\n",
       "             income_per_person_gdppercapita_ppp_inflation_adjusted  \\\n",
       "geo                                                                  \n",
       "Afghanistan                                             1780.0       \n",
       "Albania                                                10700.0       \n",
       "Algeria                                                13500.0       \n",
       "Andorra                                                44900.0       \n",
       "Angola                                                  6260.0       \n",
       "...                                                        ...       \n",
       "Venezuela                                              16700.0       \n",
       "Vietnam                                                 5370.0       \n",
       "Yemen                                                   3770.0       \n",
       "Zambia                                                  3630.0       \n",
       "Zimbabwe                                                1910.0       \n",
       "\n",
       "             electricity_use_per_person  \n",
       "geo                                      \n",
       "Afghanistan                      2580.0  \n",
       "Albania                          2310.0  \n",
       "Algeria                          1360.0  \n",
       "Andorra                          2580.0  \n",
       "Angola                            312.0  \n",
       "...                                 ...  \n",
       "Venezuela                        2660.0  \n",
       "Vietnam                          1410.0  \n",
       "Yemen                             216.0  \n",
       "Zambia                            707.0  \n",
       "Zimbabwe                          537.0  \n",
       "\n",
       "[192 rows x 6 columns]"
      ]
     },
     "execution_count": 29,
     "metadata": {},
     "output_type": "execute_result"
    }
   ],
   "source": [
    "df_merged_one"
   ]
  },
  {
   "cell_type": "markdown",
   "metadata": {},
   "source": [
    "Seperating features and target variables into x and y "
   ]
  },
  {
   "cell_type": "code",
   "execution_count": 30,
   "metadata": {},
   "outputs": [],
   "source": [
    "y = df_merged_one['co2_emissions_tonnes_per_person']\n",
    "x = df_merged_one.drop(['co2_emissions_tonnes_per_person'],axis=1)"
   ]
  },
  {
   "cell_type": "code",
   "execution_count": 31,
   "metadata": {},
   "outputs": [],
   "source": [
    "from sklearn.model_selection import train_test_split\n",
    "from sklearn.preprocessing import MinMaxScaler"
   ]
  },
  {
   "cell_type": "code",
   "execution_count": 32,
   "metadata": {},
   "outputs": [],
   "source": [
    "scale = MinMaxScaler()"
   ]
  },
  {
   "cell_type": "markdown",
   "metadata": {},
   "source": [
    "Splitting into training and testing dataset"
   ]
  },
  {
   "cell_type": "code",
   "execution_count": 33,
   "metadata": {},
   "outputs": [],
   "source": [
    "x_train, x_test, y_train, y_test = train_test_split(x, y, test_size=0.3,random_state=42)"
   ]
  },
  {
   "cell_type": "code",
   "execution_count": 34,
   "metadata": {},
   "outputs": [
    {
     "data": {
      "text/plain": [
       "((134, 5), (58, 5), (134,), (58,))"
      ]
     },
     "execution_count": 34,
     "metadata": {},
     "output_type": "execute_result"
    }
   ],
   "source": [
    "x_train.shape,x_test.shape,y_train.shape,y_test.shape"
   ]
  },
  {
   "cell_type": "markdown",
   "metadata": {},
   "source": [
    "Scaling of training and testing feature dataset i.e x_train,x_test"
   ]
  },
  {
   "cell_type": "code",
   "execution_count": 35,
   "metadata": {},
   "outputs": [],
   "source": [
    "x_train_scaled = scale.fit_transform(x_train)\n",
    "x_test_scaled = scale.fit_transform(x_test)"
   ]
  },
  {
   "cell_type": "markdown",
   "metadata": {},
   "source": [
    "Linear Regression model building"
   ]
  },
  {
   "cell_type": "code",
   "execution_count": 36,
   "metadata": {},
   "outputs": [],
   "source": [
    "from sklearn.linear_model import LinearRegression"
   ]
  },
  {
   "cell_type": "code",
   "execution_count": 37,
   "metadata": {},
   "outputs": [],
   "source": [
    "lr_model = LinearRegression()"
   ]
  },
  {
   "cell_type": "code",
   "execution_count": 38,
   "metadata": {},
   "outputs": [
    {
     "data": {
      "text/plain": [
       "LinearRegression(copy_X=True, fit_intercept=True, n_jobs=None, normalize=False)"
      ]
     },
     "execution_count": 38,
     "metadata": {},
     "output_type": "execute_result"
    }
   ],
   "source": [
    "lr_model.fit(x_train,y_train)"
   ]
  },
  {
   "cell_type": "code",
   "execution_count": 39,
   "metadata": {},
   "outputs": [],
   "source": [
    "from sklearn.metrics import mean_squared_error"
   ]
  },
  {
   "cell_type": "code",
   "execution_count": 40,
   "metadata": {},
   "outputs": [],
   "source": [
    "pred = lr_model.predict(x_test)"
   ]
  },
  {
   "cell_type": "code",
   "execution_count": 41,
   "metadata": {},
   "outputs": [
    {
     "name": "stdout",
     "output_type": "stream",
     "text": [
      "9.987489122433908\n"
     ]
    }
   ],
   "source": [
    "print(mean_squared_error(y_test,pred))"
   ]
  },
  {
   "cell_type": "code",
   "execution_count": 42,
   "metadata": {},
   "outputs": [
    {
     "data": {
      "text/plain": [
       "0.5710268836917567"
      ]
     },
     "execution_count": 42,
     "metadata": {},
     "output_type": "execute_result"
    }
   ],
   "source": [
    "lr_model.score(x_test,y_test)"
   ]
  },
  {
   "cell_type": "markdown",
   "metadata": {},
   "source": [
    "Importing generalized regression libraries"
   ]
  },
  {
   "cell_type": "code",
   "execution_count": 43,
   "metadata": {},
   "outputs": [],
   "source": [
    "from sklearn.linear_model import Ridge,Lasso\n",
    "from sklearn.model_selection import GridSearchCV\n",
    "from sklearn.linear_model import RidgeCV,LassoCV"
   ]
  },
  {
   "cell_type": "markdown",
   "metadata": {},
   "source": [
    "Values for hyperparameter tunning"
   ]
  },
  {
   "cell_type": "code",
   "execution_count": 44,
   "metadata": {},
   "outputs": [],
   "source": [
    "alphas = [0.0001, 0.001, 0.01, 0.05, 0.1, 0.2, 0.3, 0.4, 0.5, 0.6, 0.7, 0.8, 0.9, 1.0, 2.0, 3.0, \n",
    "          4.0, 5.0, 6.0, 7.0, 8.0, 9.0, 10.0, 20, 50, 100, 500, 1000 ]"
   ]
  },
  {
   "cell_type": "markdown",
   "metadata": {},
   "source": [
    "Ridge cross validation to choose best value for hyperparameter i.e. alpha/lambda"
   ]
  },
  {
   "cell_type": "code",
   "execution_count": 45,
   "metadata": {},
   "outputs": [
    {
     "data": {
      "text/plain": [
       "0.4"
      ]
     },
     "execution_count": 45,
     "metadata": {},
     "output_type": "execute_result"
    }
   ],
   "source": [
    "ridgecv = RidgeCV(alphas = alphas, scoring = 'neg_mean_squared_error', normalize = True,store_cv_values=True)\n",
    "ridgecv.fit(x_train, y_train)\n",
    "ridgecv.alpha_"
   ]
  },
  {
   "cell_type": "markdown",
   "metadata": {},
   "source": [
    "Building ridge regression model"
   ]
  },
  {
   "cell_type": "code",
   "execution_count": 46,
   "metadata": {},
   "outputs": [
    {
     "name": "stderr",
     "output_type": "stream",
     "text": [
      "C:\\Users\\HP\\anaconda3\\lib\\site-packages\\sklearn\\utils\\deprecation.py:144: FutureWarning: The sklearn.metrics.classification module is  deprecated in version 0.22 and will be removed in version 0.24. The corresponding classes / functions should instead be imported from sklearn.metrics. Anything that cannot be imported from sklearn.metrics is now part of the private API.\n",
      "  warnings.warn(message, FutureWarning)\n"
     ]
    }
   ],
   "source": [
    "from yellowbrick.regressor import AlphaSelection"
   ]
  },
  {
   "cell_type": "code",
   "execution_count": 47,
   "metadata": {},
   "outputs": [
    {
     "data": {
      "image/png": "[encoded data removed]",
      "text/plain": [
       "<Figure size 576x396 with 1 Axes>"
      ]
     },
     "metadata": {},
     "output_type": "display_data"
    },
    {
     "data": {
      "text/plain": [
       "<matplotlib.axes._subplots.AxesSubplot at 0x14b7155c308>"
      ]
     },
     "execution_count": 47,
     "metadata": {},
     "output_type": "execute_result"
    }
   ],
   "source": [
    "visualizer_ridge = AlphaSelection(ridgecv)\n",
    "visualizer_ridge.fit(x_train, y_train)\n",
    "visualizer_ridge.show()"
   ]
  },
  {
   "cell_type": "code",
   "execution_count": 48,
   "metadata": {},
   "outputs": [],
   "source": [
    "ridgeReg = Ridge(alpha=0.4, normalize=True)\n",
    "ridgeReg.fit(x_train,y_train)\n",
    "ridge_pred = ridgeReg.predict(x_test)"
   ]
  },
  {
   "cell_type": "code",
   "execution_count": 49,
   "metadata": {},
   "outputs": [
    {
     "name": "stdout",
     "output_type": "stream",
     "text": [
      "8.840210183154134\n"
     ]
    }
   ],
   "source": [
    "print(mean_squared_error(y_test,ridge_pred))"
   ]
  },
  {
   "cell_type": "code",
   "execution_count": 50,
   "metadata": {},
   "outputs": [
    {
     "data": {
      "text/plain": [
       "0.6203037155185056"
      ]
     },
     "execution_count": 50,
     "metadata": {},
     "output_type": "execute_result"
    }
   ],
   "source": [
    "ridgeReg.score(x_test,y_test)"
   ]
  },
  {
   "cell_type": "markdown",
   "metadata": {},
   "source": [
    "Lasso cross validation to choose best value for hyperparameter i.e. alpha/lambda"
   ]
  },
  {
   "cell_type": "code",
   "execution_count": 51,
   "metadata": {},
   "outputs": [
    {
     "data": {
      "text/plain": [
       "0.1"
      ]
     },
     "execution_count": 51,
     "metadata": {},
     "output_type": "execute_result"
    }
   ],
   "source": [
    "lassocv = LassoCV(alphas = alphas, cv = 10, max_iter = 100, normalize = True)\n",
    "lassocv.fit(x_train, y_train)\n",
    "lassocv.alpha_"
   ]
  },
  {
   "cell_type": "markdown",
   "metadata": {},
   "source": [
    "Building Lasso regression model"
   ]
  },
  {
   "cell_type": "code",
   "execution_count": 52,
   "metadata": {},
   "outputs": [
    {
     "data": {
      "image/png": "[encoded data removed]",
      "text/plain": [
       "<Figure size 576x396 with 1 Axes>"
      ]
     },
     "metadata": {},
     "output_type": "display_data"
    },
    {
     "data": {
      "text/plain": [
       "<matplotlib.axes._subplots.AxesSubplot at 0x14b6f82e808>"
      ]
     },
     "execution_count": 52,
     "metadata": {},
     "output_type": "execute_result"
    }
   ],
   "source": [
    "visualizer_lasso = AlphaSelection(lassocv)\n",
    "visualizer_lasso.fit(x_train, y_train)\n",
    "visualizer_lasso.show()"
   ]
  },
  {
   "cell_type": "code",
   "execution_count": 53,
   "metadata": {},
   "outputs": [],
   "source": [
    "lassoReg = Lasso(alpha=0.1, normalize=True)\n",
    "lassoReg.fit(x_train,y_train)\n",
    "lasso_pred = lassoReg.predict(x_test)"
   ]
  },
  {
   "cell_type": "code",
   "execution_count": 54,
   "metadata": {},
   "outputs": [
    {
     "name": "stdout",
     "output_type": "stream",
     "text": [
      "7.80968406633497\n"
     ]
    }
   ],
   "source": [
    "print(mean_squared_error(y_test,lasso_pred))"
   ]
  },
  {
   "cell_type": "code",
   "execution_count": 55,
   "metadata": {},
   "outputs": [
    {
     "data": {
      "text/plain": [
       "0.6645658913616789"
      ]
     },
     "execution_count": 55,
     "metadata": {},
     "output_type": "execute_result"
    }
   ],
   "source": [
    "lassoReg.score(x_test,y_test)"
   ]
  },
  {
   "cell_type": "code",
   "execution_count": null,
   "metadata": {},
   "outputs": [],
   "source": []
  }
 ],
 "metadata": {
  "kernelspec": {
   "display_name": "Python 3",
   "language": "python",
   "name": "python3"
  },
  "language_info": {
   "codemirror_mode": {
    "name": "ipython",
    "version": 3
   },
   "file_extension": ".py",
   "mimetype": "text/x-python",
   "name": "python",
   "nbconvert_exporter": "python",
   "pygments_lexer": "ipython3",
   "version": "3.7.6"
  }
 },
 "nbformat": 4,
 "nbformat_minor": 4
}
